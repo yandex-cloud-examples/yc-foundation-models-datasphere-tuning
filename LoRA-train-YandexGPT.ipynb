{
 "cells": [
  {
   "cell_type": "code",
   "execution_count": null,
   "id": "076f39f3-2b23-447a-a4aa-8213df24acbb",
   "metadata": {
    "tags": []
   },
   "outputs": [],
   "source": [
    "%pip install yandex-cloud-ml-sdk --upgrade"
   ]
  },
  {
   "cell_type": "code",
   "execution_count": null,
   "id": "003be45d-10f1-40d8-9c68-e45fef36a927",
   "metadata": {
    "tags": []
   },
   "outputs": [],
   "source": [
    "import pathlib \n",
    "import uuid\n",
    "import os\n",
    "from __future__ import annotations\n",
    "\n",
    "from yandex_cloud_ml_sdk import YCloudML\n",
    "import urllib.request\n",
    "import zipfile"
   ]
  },
  {
   "cell_type": "code",
   "execution_count": null,
   "id": "74266c12-60ed-4a0f-bc7e-4c3f18cf5aaf",
   "metadata": {
    "tags": []
   },
   "outputs": [],
   "source": [
    "def local_path(path: str) -> pathlib.Path:\n",
    "    return pathlib.Path(path)\n",
    "\n",
    "dataset_path = local_path(\"generations.jsonlines\")\n",
    "print(dataset_path)\n",
    "\n",
    "print(\"Данные датасета для дообучения\")\n",
    "print(dataset_path.read_text())"
   ]
  },
  {
   "cell_type": "code",
   "execution_count": null,
   "id": "576203cd-624b-4a26-af1a-c6ae719d793c",
   "metadata": {
    "tags": []
   },
   "outputs": [],
   "source": [
    "def download_tensorboard(url):\n",
    "    urllib.request.urlretrieve(url, \"tensorboard.zip\")\n",
    "    with zipfile.ZipFile('tensorboard.zip', 'r') as zip_ref:\n",
    "        zip_ref.extractall(\"tensorboard\")"
   ]
  },
  {
   "cell_type": "code",
   "execution_count": null,
   "id": "3434f217-cbb3-4392-ab11-b20df0b67987",
   "metadata": {
    "tags": []
   },
   "outputs": [],
   "source": [
    "# Создаем объект SDK, содержащий параметры для авторизации\n",
    "# Авторизация происходит от имени сервисного аккаунта с ролью ai.editor\n",
    "# Для аутентификации используется API-ключ \n",
    "\n",
    "sdk = YCloudML(\n",
    "    folder_id=os.environ['FOLDER_ID'], # Идентификатор каталога, сохраненный в секрете DataSphere\n",
    "    auth=os.environ['API_KEY'] # API-ключ сервисного аккаунта, сохраненный в секрете DataSphere\n",
    ")"
   ]
  },
  {
   "cell_type": "code",
   "execution_count": null,
   "id": "db4e33a0-7bee-42f7-b549-e1c008e7f59d",
   "metadata": {
    "tags": []
   },
   "outputs": [],
   "source": [
    "print('Создаем датасет для дообучения')\n",
    "\n",
    "# Создаем датасет для дообучения модели генерации текса\n",
    "# Указываем путь к файлу с данными, формат и тип датасета\n",
    "dataset_draft = sdk.datasets.draft_from_path(\n",
    "    task_type='TextToTextGeneration',\n",
    "    path=dataset_path,\n",
    "    upload_format='jsonlines',\n",
    "    name='test-generations'\n",
    ")\n",
    "\n",
    "# Запускаем загрузку и валидацию датасета, дожидаемся окончания\n",
    "dataset = dataset_draft.upload()\n",
    "print('Датасет загружается и валидируется')\n",
    "print(f'Новый датасет {dataset=} \\n')"
   ]
  },
  {
   "cell_type": "code",
   "execution_count": null,
   "id": "72a310b5-f6b9-491d-aee8-8e865a5a1809",
   "metadata": {
    "tags": []
   },
   "outputs": [],
   "source": [
    "# Выбираем базовую модель, которую хотим дообучить. В примере — yandexgpt lite\n",
    "base_model = sdk.models.completions('yandexgpt-lite')\n",
    "\n",
    "# Запускаем дообучение модели\n",
    "tuning_task = base_model.tune_deferred(\n",
    "    dataset,\n",
    "    name=str(uuid.uuid4()),\n",
    "    n_samples=10000 \n",
    ")\n",
    "\n",
    "print(f'Обучение началось {tuning_task} \\n')\n",
    "\n",
    "# Дообучение может длиться до нескольких часов\n",
    "# Дожидаемся завершения операции обучения и получаем новую модель\n",
    "new_model = tuning_task.wait()\n",
    "print(f'Обучение закончилось, новая модель = {new_model} \\n')"
   ]
  },
  {
   "cell_type": "code",
   "execution_count": null,
   "id": "2ac0e514-fa80-4b26-87a5-18a720a41f91",
   "metadata": {
    "tags": []
   },
   "outputs": [],
   "source": [
    "# Если вы закрыли ноутбук, по task_id можно проверить статус операции\n",
    "tuning_task = sdk.tuning.get(task_id)\n",
    "print(tuning_task.get_task_info())\n",
    "\n",
    "# И получить дообученную модель\n",
    "new_model = tuning_task.get_result()\n",
    "print({new_model})"
   ]
  },
  {
   "cell_type": "code",
   "execution_count": null,
   "id": "ed972b65-4953-4c9b-a569-806aa661afcb",
   "metadata": {
    "tags": []
   },
   "outputs": [],
   "source": [
    "print('Посылаем запросы в новую модель\\n')\n",
    "# Примеры запросов в модель\n",
    "completion_result = new_model.run(\"Как тебя зовут?\")\n",
    "print(f'{completion_result=} \\n')\n",
    "\n",
    "# Дообученную модель можно использовать, указав ее URI\n",
    "tuned_uri = new_model.uri \n",
    "model = sdk.models.completions(tuned_uri)\n",
    "\n",
    "completion_result = model.run(\"Откуда ты?\")\n",
    "print(f'{completion_result=} \\n')"
   ]
  },
  {
   "cell_type": "code",
   "execution_count": null,
   "id": "324b408e-7d5e-4e39-a782-0a88ff55d889",
   "metadata": {
    "tags": []
   },
   "outputs": [],
   "source": [
    "# Можно посмотреть метрики дообучения\n",
    "# Получаем ссылку с данными для TensorBoard и скачиваем файлы\n",
    "metrics_url = new_model.get_metrics_url()\n",
    "download_tensorboard(metrics_url)"
   ]
  }
 ],
 "metadata": {
  "kernelspec": {
   "display_name": "DataSphere Kernel",
   "language": "python",
   "name": "python3"
  },
  "language_info": {
   "codemirror_mode": {
    "name": "ipython",
    "version": 3
   },
   "file_extension": ".py",
   "mimetype": "text/x-python",
   "name": "python",
   "nbconvert_exporter": "python",
   "pygments_lexer": "ipython3",
   "version": "3.10.12"
  }
 },
 "nbformat": 4,
 "nbformat_minor": 5
}
